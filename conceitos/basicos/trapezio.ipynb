{
 "cells": [
  {
   "cell_type": "markdown",
   "id": "9662d7f9",
   "metadata": {},
   "source": [
    "# Integração Numérica: Regra do Trapézio\n",
    "\n",
    "Este notebook apresenta o método de integração numérica conhecido como Regra do Trapézio, seus conceitos fundamentais e implementações em Python."
   ]
  },
  {
   "cell_type": "markdown",
   "id": "dfc2cbdd",
   "metadata": {},
   "source": [
    "## 1. Conceito Matemático\n",
    "\n",
    "A Regra do Trapézio é um método de integração numérica utilizado para aproximar o valor de integrais definidas. O método se baseia na aproximação da área sob a curva de uma função por meio de trapézios.\n",
    "\n",
    "A fórmula matemática é dada por:\n",
    "\n",
    "$$\\int_{a}^{b} f(x)dx \\approx \\frac{h}{2}[f(a) + 2f(x_1) + 2f(x_2) + ... + 2f(x_{n-1}) + f(b)]$$\n",
    "\n",
    "Onde:\n",
    "- $h = (b-a)/n$ (largura de cada subintervalo)\n",
    "- $n$ é o número de subintervalos\n",
    "- $[a,b]$ é o intervalo de integração\n",
    "\n",
    "### Interpretação Geométrica\n",
    "\n",
    "Geometricamente, estamos aproximando a área sob a curva da função por meio de trapézios. Cada trapézio tem:\n",
    "- Base superior: $f(x_i)$\n",
    "- Base inferior: $f(x_{i+1})$\n",
    "- Altura: $h$\n",
    "\n",
    "A área de cada trapézio é: $(f(x_i) + f(x_{i+1})) \\cdot h / 2$"
   ]
  },
  {
   "cell_type": "markdown",
   "id": "a51c1940",
   "metadata": {},
   "source": [
    "## 2. Implementações da Regra do Trapézio\n",
    "\n",
    "Vamos implementar duas variações da Regra do Trapézio:"
   ]
  },
  {
   "cell_type": "code",
   "execution_count": null,
   "id": "ae379687",
   "metadata": {},
   "outputs": [],
   "source": [
    "import numpy as np\n",
    "import matplotlib.pyplot as plt\n",
    "import math"
   ]
  },
  {
   "cell_type": "markdown",
   "id": "a4724590",
   "metadata": {},
   "source": [
    "### 2.1 Regra do Trapézio Simples\n",
    "\n",
    "Na regra do trapézio simples, dividimos o intervalo de integração em $n$ subintervalos iguais e aplicamos a fórmula para cada subintervalo."
   ]
  },
  {
   "cell_type": "code",
   "execution_count": null,
   "id": "04b36137",
   "metadata": {},
   "outputs": [],
   "source": [
    "def trapezoidal_rule_simple(f, a, b, n):\n",
    "    \"\"\"Implementação da regra do trapézio simples.\n",
    "    \n",
    "    Parâmetros:\n",
    "        f: A função a ser integrada\n",
    "        a: Limite inferior da integração\n",
    "        b: Limite superior da integração\n",
    "        n: Número de subintervalos\n",
    "    \n",
    "    Retorna:\n",
    "        Aproximação da integral definida\n",
    "    \"\"\"\n",
    "    h = (b - a) / n\n",
    "    sum_value = (f(a) + f(b)) / 2\n",
    "    for i in range(1, n):\n",
    "        x = a + i * h\n",
    "        sum_value += f(x)\n",
    "    return h * sum_value"
   ]
  },
  {
   "cell_type": "markdown",
   "id": "ade4326b",
   "metadata": {},
   "source": [
    "### 2.2 Regra do Trapézio Composta\n",
    "\n",
    "Na regra do trapézio composta, aplicamos o método com um número crescente de subintervalos para melhorar a precisão da aproximação."
   ]
  },
  {
   "cell_type": "code",
   "execution_count": null,
   "id": "9f9a719b",
   "metadata": {},
   "outputs": [],
   "source": [
    "def trapezoidal_rule_composite(f, a, b, n):\n",
    "    \"\"\"Implementação da regra do trapézio composta.\n",
    "    \n",
    "    Parâmetros:\n",
    "        f: A função a ser integrada\n",
    "        a: Limite inferior da integração\n",
    "        b: Limite superior da integração\n",
    "        n: Número de subintervalos\n",
    "    \n",
    "    Retorna:\n",
    "        Aproximação da integral definida\n",
    "    \"\"\"\n",
    "    # Cria um array com os pontos de avaliação\n",
    "    x = np.linspace(a, b, n+1)\n",
    "    # Avalia a função em todos os pontos\n",
    "    y = np.array([f(xi) for xi in x])\n",
    "    \n",
    "    # Aplica a regra do trapézio\n",
    "    area = (b - a) / (2 * n) * (y[0] + 2 * np.sum(y[1:n]) + y[n])\n",
    "    return area"
   ]
  },
  {
   "cell_type": "markdown",
   "id": "d3dec23b",
   "metadata": {},
   "source": [
    "## 3. Exemplo: Função Seno Especial\n",
    "\n",
    "Vamos calcular a integral de $f(t) = \\sin(\\pi t^2/2)$ no intervalo $[0, 2-\\sqrt{2}]$."
   ]
  },
  {
   "cell_type": "code",
   "execution_count": null,
   "id": "6bef75f1",
   "metadata": {},
   "outputs": [],
   "source": [
    "# Definindo a função f(t)\n",
    "def f(t):\n",
    "    return math.sin(math.pi * t**2/2)\n",
    "\n",
    "# Definindo o intervalo de integração\n",
    "a = 0\n",
    "b = 2 - math.sqrt(2)\n",
    "\n",
    "# Visualizando a função\n",
    "x = np.linspace(a, b, 1000)\n",
    "y = [f(xi) for xi in x]\n",
    "\n",
    "plt.figure(figsize=(10, 6))\n",
    "plt.plot(x, y)\n",
    "plt.fill_between(x, y, alpha=0.3)\n",
    "plt.title(f'Função f(t) = sin(πt²/2) no intervalo [{a}, {b:.4f}]')\n",
    "plt.grid(True)\n",
    "plt.show()"
   ]
  },
  {
   "cell_type": "markdown",
   "id": "bc0bc2d3",
   "metadata": {},
   "source": [
    "### 3.1 Cálculo com Regra do Trapézio Simples"
   ]
  },
  {
   "cell_type": "code",
   "execution_count": null,
   "id": "dcedef5a",
   "metadata": {},
   "outputs": [],
   "source": [
    "# Calculando a integral com a regra do trapézio simples\n",
    "integral_simple = trapezoidal_rule_simple(f, a, b, 1)\n",
    "print(f\"Integral usando a regra do trapézio simples: {integral_simple:.6f}\")"
   ]
  },
  {
   "cell_type": "markdown",
   "id": "c6183a55",
   "metadata": {},
   "source": [
    "### 3.2 Cálculo com Regra do Trapézio Composta"
   ]
  },
  {
   "cell_type": "code",
   "execution_count": null,
   "id": "db9d12d2",
   "metadata": {},
   "outputs": [],
   "source": [
    "# Calculando a integral usando a regra do trapézio composta com diferentes números de trapézios\n",
    "n_values = [3, 5, 10, 20, 60, 100]\n",
    "\n",
    "results = []\n",
    "for n in n_values:\n",
    "    integral_composite = trapezoidal_rule_composite(f, a, b, n)\n",
    "    results.append(integral_composite)\n",
    "    print(f\"Integral usando a regra do trapézio composta com {n} trapézios: {integral_composite:.10f}\")\n",
    "\n",
    "# Visualizando a convergência\n",
    "plt.figure(figsize=(10, 6))\n",
    "plt.plot(n_values, results, 'o-')\n",
    "plt.title('Convergência da Regra do Trapézio')\n",
    "plt.xlabel('Número de subintervalos (n)')\n",
    "plt.ylabel('Valor da integral aproximada')\n",
    "plt.grid(True)\n",
    "plt.show()"
   ]
  },
  {
   "cell_type": "markdown",
   "id": "9158d52c",
   "metadata": {},
   "source": [
    "## 4. Aplicação Prática: Cálculo de Distância Percorrida\n",
    "\n",
    "Podemos usar a Regra do Trapézio para calcular a distância percorrida a partir de medições de velocidade em diferentes momentos."
   ]
  },
  {
   "cell_type": "code",
   "execution_count": null,
   "id": "0272508a",
   "metadata": {},
   "outputs": [],
   "source": [
    "# Dados de tempo (segundos) e velocidade (km/h)\n",
    "t = [0, 120, 240, 360, 480, 600, 720, 840, 960, 1080, 1200]  # segundos\n",
    "v = [20, 22, 23, 25, 30, 31, 32, 40, 45, 50, 65]  # km/h\n",
    "\n",
    "# Visualizando os dados\n",
    "plt.figure(figsize=(10, 6))\n",
    "plt.plot(t, v, 'o-')\n",
    "plt.fill_between(t, v, alpha=0.3)\n",
    "plt.title('Velocidade x Tempo')\n",
    "plt.xlabel('Tempo (segundos)')\n",
    "plt.ylabel('Velocidade (km/h)')\n",
    "plt.grid(True)\n",
    "plt.show()"
   ]
  },
  {
   "cell_type": "code",
   "execution_count": null,
   "id": "7aed8af7",
   "metadata": {},
   "outputs": [],
   "source": [
    "# Cálculo da distância percorrida usando a regra do trapézio\n",
    "n = len(t) - 1  # número de intervalos\n",
    "areas = []\n",
    "\n",
    "for i in range(n):\n",
    "    v1, v2 = v[i], v[i+1]  # velocidades nos pontos\n",
    "    t1, t2 = t[i], t[i+1]  # tempos nos pontos\n",
    "    area = (v1 + v2) * (t2 - t1) / 2  # área do trapézio\n",
    "    areas.append(area)\n",
    "    print(f\"Intervalo {i+1}: de {t1}s a {t2}s, área = {area:.2f} km.s/h\")\n",
    "\n",
    "# Convertendo para metros (km/h * s * 1000/3600 = m)\n",
    "distancia = sum(areas) * 1000/3600\n",
    "print(f\"\\nAproximação da distância total percorrida: {distancia:.0f} metros\")"
   ]
  },
  {
   "cell_type": "markdown",
   "id": "80c7d760",
   "metadata": {},
   "source": [
    "## 5. Comparação de Erro e Precisão\n",
    "\n",
    "A precisão da Regra do Trapézio aumenta com o número de subintervalos. Vamos analisar o erro para uma função cuja integral conhecemos."
   ]
  },
  {
   "cell_type": "code",
   "execution_count": null,
   "id": "142d757d",
   "metadata": {},
   "outputs": [],
   "source": [
    "# Função com integral conhecida: f(x) = x²\n",
    "def g(x):\n",
    "    return x**2\n",
    "\n",
    "# Integral exata de x² de 0 a 1 é 1/3\n",
    "integral_exact = 1/3\n",
    "\n",
    "# Calculando com diferentes números de subintervalos\n",
    "n_values = [2, 4, 8, 16, 32, 64, 128, 256]\n",
    "errors = []\n",
    "\n",
    "for n in n_values:\n",
    "    approx = trapezoidal_rule_composite(g, 0, 1, n)\n",
    "    error = abs(approx - integral_exact)\n",
    "    errors.append(error)\n",
    "    print(f\"n = {n}, Aproximação = {approx:.10f}, Erro = {error:.10f}\")\n",
    "\n",
    "# Visualizando o erro\n",
    "plt.figure(figsize=(10, 6))\n",
    "plt.loglog(n_values, errors, 'o-')\n",
    "plt.title('Erro da Regra do Trapézio em escala logarítmica')\n",
    "plt.xlabel('Número de subintervalos (n)')\n",
    "plt.ylabel('Erro absoluto')\n",
    "plt.grid(True)\n",
    "plt.show()"
   ]
  },
  {
   "cell_type": "markdown",
   "id": "d2ca66cd",
   "metadata": {},
   "source": [
    "## Documenting Trapezoid Calculations in Markdown\n",
    "\n",
    "Now, let's create comprehensive documentation for our trapezoid calculations in a Markdown file."
   ]
  }
 ],
 "metadata": {
  "language_info": {
   "name": "python"
  }
 },
 "nbformat": 4,
 "nbformat_minor": 5
}
