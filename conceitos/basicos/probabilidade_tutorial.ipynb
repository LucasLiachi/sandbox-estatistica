{
 "cells": [
  {
   "cell_type": "markdown",
   "id": "13182589",
   "metadata": {},
   "source": [
    "# Tutorial de Probabilidade e Intervalos de Confiança\n",
    "\n",
    "Este notebook demonstra conceitos fundamentais de probabilidade e intervalos de confiança usando Python.\n",
    "\n",
    "## Conteúdo\n",
    "1. Conceitos Básicos\n",
    "2. Intervalos de Confiança\n",
    "3. Visualizações\n",
    "4. Exemplos Práticos\n",
    "\n",
    "## Referências\n",
    "- Montgomery, D. C., & Runger, G. C. (2010). Applied Statistics and Probability for Engineers.\n",
    "- Wasserman, L. (2004). All of Statistics: A Concise Course in Statistical Inference."
   ]
  },
  {
   "cell_type": "code",
   "execution_count": null,
   "id": "eeb9588f",
   "metadata": {},
   "outputs": [],
   "source": [
    "import numpy as np\n",
    "import pandas as pd\n",
    "import matplotlib.pyplot as plt\n",
    "import seaborn as sns\n",
    "from scipy import stats\n",
    "\n",
    "# Configuração para gráficos mais bonitos\n",
    "plt.style.use('seaborn')\n",
    "sns.set_palette('husl')"
   ]
  },
  {
   "cell_type": "markdown",
   "id": "620b6f5f",
   "metadata": {},
   "source": [
    "## Intervalos de Confiança\n",
    "\n",
    "O intervalo de confiança é uma faixa de valores que tem uma probabilidade específica de conter o verdadeiro valor do parâmetro populacional.\n",
    "\n",
    "### Fórmula Matemática\n",
    "\n",
    "Para uma média amostral, o intervalo de confiança é dado por:\n",
    "\n",
    "$$ IC = \\bar{x} \\pm t_{\\alpha/2, n-1} \\cdot \\frac{s}{\\sqrt{n}} $$\n",
    "\n",
    "Onde:\n",
    "- $\\bar{x}$ é a média amostral\n",
    "- $t_{\\alpha/2, n-1}$ é o valor crítico da distribuição t de Student\n",
    "- $s$ é o desvio padrão amostral\n",
    "- $n$ é o tamanho da amostra"
   ]
  },
  {
   "cell_type": "code",
   "execution_count": null,
   "id": "3a35a194",
   "metadata": {},
   "outputs": [],
   "source": [
    "# Exemplo prático usando dados reais\n",
    "from conceitos.basicos.Probabilidade import calcular_intervalo_confianca\n",
    "\n",
    "# Dados dos professores\n",
    "notas_prof1 = [82, 64, 64, 79, 64, 76, 52, 61, 85]\n",
    "\n",
    "# Calcular intervalo de confiança\n",
    "ic_inf, ic_sup = calcular_intervalo_confianca(notas_prof1)\n",
    "\n",
    "# Criar visualização\n",
    "plt.figure(figsize=(10, 6))\n",
    "sns.histplot(notas_prof1, bins=10)\n",
    "plt.axvline(np.mean(notas_prof1), color='red', linestyle='--', label='Média')\n",
    "plt.axvline(ic_inf, color='green', linestyle=':', label='IC Inferior')\n",
    "plt.axvline(ic_sup, color='green', linestyle=':', label='IC Superior')\n",
    "plt.title('Distribuição das Notas com Intervalo de Confiança')\n",
    "plt.xlabel('Notas')\n",
    "plt.ylabel('Frequência')\n",
    "plt.legend()\n",
    "plt.show()"
   ]
  },
  {
   "cell_type": "markdown",
   "id": "9507a3f9",
   "metadata": {},
   "source": [
    "## Interpretação\n",
    "\n",
    "O gráfico acima mostra:\n",
    "1. A distribuição das notas (histograma)\n",
    "2. A média das notas (linha vermelha tracejada)\n",
    "3. Os limites do intervalo de confiança (linhas verdes pontilhadas)\n",
    "\n",
    "Com 95% de confiança, podemos afirmar que a verdadeira média populacional está entre os limites calculados."
   ]
  }
 ],
 "metadata": {
  "language_info": {
   "name": "python"
  }
 },
 "nbformat": 4,
 "nbformat_minor": 5
}
