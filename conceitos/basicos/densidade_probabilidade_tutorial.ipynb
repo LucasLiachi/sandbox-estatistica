{
 "cells": [
  {
   "cell_type": "markdown",
   "id": "df7e4f87",
   "metadata": {},
   "source": [
    "# Tutorial de Funções Densidade de Probabilidade (PDF)\n",
    "\n",
    "Este notebook demonstra os conceitos e implementações de funções densidade de probabilidade usando Python.\n",
    "\n",
    "## Conteúdo\n",
    "1. Teoria de PDFs\n",
    "2. Distribuições Comuns\n",
    "3. Cálculo de Probabilidades\n",
    "4. Visualizações\n",
    "\n",
    "## Teoria\n",
    "\n",
    "Uma função densidade de probabilidade (PDF) deve satisfazer:\n",
    "\n",
    "1. $f(x) \\geq 0$ para todo $x$\n",
    "2. $\\int_{-\\infty}^{\\infty} f(x)dx = 1$\n",
    "\n",
    "A probabilidade de um intervalo é dada por:\n",
    "\n",
    "$P(a \\leq X \\leq b) = \\int_a^b f(x)dx$"
   ]
  },
  {
   "cell_type": "code",
   "execution_count": null,
   "id": "a4806e27",
   "metadata": {},
   "outputs": [],
   "source": [
    "import numpy as np\n",
    "import matplotlib.pyplot as plt\n",
    "import seaborn as sns\n",
    "from conceitos.basicos.densidade_de_probabilidade import (\n",
    "    DistribuicaoProbabilidade,\n",
    "    DISTRIBUICOES_EXEMPLO\n",
    ")\n",
    "\n",
    "# Configuração para visualizações\n",
    "plt.style.use('seaborn')\n",
    "sns.set_palette('husl')"
   ]
  },
  {
   "cell_type": "markdown",
   "id": "7650b1fb",
   "metadata": {},
   "source": [
    "## Distribuição Exponencial\n",
    "\n",
    "A distribuição exponencial é frequentemente usada para modelar tempos de espera. Sua PDF é dada por:\n",
    "\n",
    "$f(x) = \\lambda e^{-\\lambda x}, x \\geq 0$\n",
    "\n",
    "onde $\\lambda$ é o parâmetro de taxa."
   ]
  },
  {
   "cell_type": "code",
   "execution_count": null,
   "id": "8c84ec70",
   "metadata": {},
   "outputs": [],
   "source": [
    "# Criar distribuição exponencial\n",
    "dist_exp = DistribuicaoProbabilidade(\n",
    "    DISTRIBUICOES_EXEMPLO['exponencial']['funcao'],\n",
    "    DISTRIBUICOES_EXEMPLO['exponencial']['var'],\n",
    "    DISTRIBUICOES_EXEMPLO['exponencial']['dominio']\n",
    ")\n",
    "\n",
    "# Calcular algumas probabilidades\n",
    "areas = [(0, 0.5), (0.5, 1), (1, 2)]\n",
    "dist_exp.plotar_distribuicao(\n",
    "    titulo='Distribuição Exponencial (λ=2)',\n",
    "    areas=areas\n",
    ")\n",
    "\n",
    "# Mostrar estatísticas\n",
    "relatorio = dist_exp.gerar_relatorio()\n",
    "print(f\"Média: {relatorio['media']:.4f}\")\n",
    "print(f\"Desvio Padrão: {relatorio['desvio_padrao']:.4f}\")"
   ]
  },
  {
   "cell_type": "markdown",
   "id": "8f4c2a92",
   "metadata": {},
   "source": [
    "## Distribuição Triangular\n",
    "\n",
    "A distribuição triangular é útil para modelar processos com valor mínimo, máximo e moda conhecidos. No nosso exemplo, usamos uma distribuição triangular simétrica no intervalo [0,1]."
   ]
  },
  {
   "cell_type": "code",
   "execution_count": null,
   "id": "28d6a7d5",
   "metadata": {},
   "outputs": [],
   "source": [
    "# Criar distribuição triangular\n",
    "dist_tri = DistribuicaoProbabilidade(\n",
    "    DISTRIBUICOES_EXEMPLO['triangular']['funcao'],\n",
    "    DISTRIBUICOES_EXEMPLO['triangular']['var'],\n",
    "    DISTRIBUICOES_EXEMPLO['triangular']['dominio']\n",
    ")\n",
    "\n",
    "# Plotar com áreas de interesse\n",
    "areas = [(0, 0.25), (0.25, 0.75), (0.75, 1)]\n",
    "dist_tri.plotar_distribuicao(\n",
    "    titulo='Distribuição Triangular',\n",
    "    areas=areas\n",
    ")\n",
    "\n",
    "# Mostrar estatísticas\n",
    "relatorio = dist_tri.gerar_relatorio()\n",
    "print(f\"Média: {relatorio['media']:.4f}\")\n",
    "print(f\"Desvio Padrão: {relatorio['desvio_padrao']:.4f}\")"
   ]
  },
  {
   "cell_type": "markdown",
   "id": "131ed954",
   "metadata": {},
   "source": [
    "## Distribuição Normal (Aproximada)\n",
    "\n",
    "A distribuição normal é fundamental em estatística. Sua PDF é dada por:\n",
    "\n",
    "$f(x) = \\frac{1}{\\sqrt{2\\pi}}e^{-\\frac{x^2}{2}}$\n",
    "\n",
    "Esta é a distribuição normal padrão (média 0, variância 1)."
   ]
  },
  {
   "cell_type": "code",
   "execution_count": null,
   "id": "a7816fd7",
   "metadata": {},
   "outputs": [],
   "source": [
    "# Criar distribuição normal aproximada\n",
    "dist_norm = DistribuicaoProbabilidade(\n",
    "    DISTRIBUICOES_EXEMPLO['normal_aproximada']['funcao'],\n",
    "    DISTRIBUICOES_EXEMPLO['normal_aproximada']['var'],\n",
    "    DISTRIBUICOES_EXEMPLO['normal_aproximada']['dominio']\n",
    ")\n",
    "\n",
    "# Plotar com intervalos de confiança padrão\n",
    "areas = [(-1, 1), (-2, 2)]  # 68% e 95%\n",
    "dist_norm.plotar_distribuicao(\n",
    "    titulo='Distribuição Normal Padrão',\n",
    "    areas=areas\n",
    ")\n",
    "\n",
    "# Mostrar probabilidades importantes\n",
    "print(\"Probabilidades importantes:\")\n",
    "print(f\"P(-1 ≤ X ≤ 1): {dist_norm.calcular_probabilidade((-1, 1)):.4f}\")\n",
    "print(f\"P(-2 ≤ X ≤ 2): {dist_norm.calcular_probabilidade((-2, 2)):.4f}\")"
   ]
  },
  {
   "cell_type": "markdown",
   "id": "bdd69a8b",
   "metadata": {},
   "source": [
    "## Exercício\n",
    "\n",
    "Tente criar sua própria distribuição de probabilidade! Por exemplo:\n",
    "1. Uma distribuição uniforme no intervalo [0,1]\n",
    "2. Uma distribuição exponencial com parâmetro λ diferente\n",
    "3. Uma distribuição normal com média e variância específicas\n",
    "\n",
    "Lembre-se que a função deve ser não-negativa e integrar para 1!"
   ]
  }
 ],
 "metadata": {
  "language_info": {
   "name": "python"
  }
 },
 "nbformat": 4,
 "nbformat_minor": 5
}
