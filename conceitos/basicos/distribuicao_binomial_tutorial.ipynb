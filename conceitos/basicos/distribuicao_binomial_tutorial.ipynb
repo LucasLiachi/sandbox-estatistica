{
 "cells": [
  {
   "cell_type": "markdown",
   "id": "5bef20ab",
   "metadata": {},
   "source": [
    "# Tutorial de Distribuição Binomial\n",
    "\n",
    "Este notebook demonstra conceitos e aplicações da distribuição binomial usando Python.\n",
    "\n",
    "## Conteúdo\n",
    "1. Teoria da Distribuição Binomial\n",
    "2. Implementação em Python\n",
    "3. Visualizações\n",
    "4. Aplicações Práticas\n",
    "\n",
    "## Teoria\n",
    "\n",
    "A distribuição binomial modela o número de sucessos em n tentativas independentes, onde:\n",
    "\n",
    "$$ P(X = k) = \\binom{n}{k} p^k (1-p)^{n-k} $$\n",
    "\n",
    "Onde:\n",
    "- $n$ é o número de tentativas\n",
    "- $k$ é o número de sucessos\n",
    "- $p$ é a probabilidade de sucesso em cada tentativa\n",
    "- $\\binom{n}{k}$ é o coeficiente binomial\n",
    "\n",
    "## Propriedades\n",
    "- Média: $\\mu = np$\n",
    "- Variância: $\\sigma^2 = np(1-p)$"
   ]
  },
  {
   "cell_type": "code",
   "execution_count": null,
   "id": "86d97b40",
   "metadata": {},
   "outputs": [],
   "source": [
    "import numpy as np\n",
    "import matplotlib.pyplot as plt\n",
    "import seaborn as sns\n",
    "from conceitos.basicos.binomial import DistribuicaoBinomial\n",
    "\n",
    "# Configuração para visualizações\n",
    "plt.style.use('seaborn')\n",
    "sns.set_palette('husl')"
   ]
  },
  {
   "cell_type": "markdown",
   "id": "0ca86d74",
   "metadata": {},
   "source": [
    "## Exemplo 1: Moeda Justa\n",
    "\n",
    "Vamos calcular a probabilidade de obter diferentes números de caras em 10 lançamentos de uma moeda justa."
   ]
  },
  {
   "cell_type": "code",
   "execution_count": null,
   "id": "af0ec4e0",
   "metadata": {},
   "outputs": [],
   "source": [
    "# Criar distribuição binomial para moeda justa\n",
    "moeda = DistribuicaoBinomial(n=10, p=0.5)\n",
    "\n",
    "# Plotar distribuição\n",
    "moeda.plotar_distribuicao('Distribuição de Caras em 10 Lançamentos de Moeda')\n",
    "\n",
    "# Calcular algumas probabilidades\n",
    "print('Probabilidades interessantes:')\n",
    "print(f'P(X = 5) = {moeda.pmf(5):.4f}')\n",
    "print(f'P(X ≤ 3) = {moeda.cdf(3):.4f}')\n",
    "print(f'P(X > 7) = {moeda.sf(7):.4f}')"
   ]
  },
  {
   "cell_type": "markdown",
   "id": "1f26f790",
   "metadata": {},
   "source": [
    "## Exemplo 2: Controle de Qualidade\n",
    "\n",
    "Considere uma linha de produção onde 5% das peças são defeituosas. Vamos analisar a probabilidade de encontrar diferentes números de peças defeituosas em uma amostra de 20 peças."
   ]
  },
  {
   "cell_type": "code",
   "execution_count": null,
   "id": "74b6be52",
   "metadata": {},
   "outputs": [],
   "source": [
    "# Criar distribuição para controle de qualidade\n",
    "controle_qualidade = DistribuicaoBinomial(n=20, p=0.05)\n",
    "\n",
    "# Plotar distribuição\n",
    "controle_qualidade.plotar_distribuicao('Distribuição de Peças Defeituosas em 20 Peças')\n",
    "\n",
    "# Calcular probabilidades relevantes\n",
    "print('Probabilidades em Controle de Qualidade:')\n",
    "print(f'P(Nenhuma peça defeituosa) = {controle_qualidade.pmf(0):.4f}')\n",
    "print(f'P(1 ou mais peças defeituosas) = {controle_qualidade.sf(0):.4f}')\n",
    "print(f'P(2 ou menos peças defeituosas) = {controle_qualidade.cdf(2):.4f}')"
   ]
  },
  {
   "cell_type": "markdown",
   "id": "5196e8ed",
   "metadata": {},
   "source": [
    "## Comparação de Diferentes Parâmetros\n",
    "\n",
    "Vamos visualizar como a distribuição muda com diferentes valores de n e p."
   ]
  },
  {
   "cell_type": "code",
   "execution_count": null,
   "id": "69826e98",
   "metadata": {},
   "outputs": [],
   "source": [
    "# Criar figura com múltiplos gráficos\n",
    "fig, axes = plt.subplots(2, 2, figsize=(12, 10))\n",
    "fig.suptitle('Comparação de Distribuições Binomiais')\n",
    "\n",
    "# Diferentes combinações de n e p\n",
    "params = [\n",
    "    {'n': 10, 'p': 0.5, 'title': 'n=10, p=0.5'},\n",
    "    {'n': 10, 'p': 0.2, 'title': 'n=10, p=0.2'},\n",
    "    {'n': 20, 'p': 0.5, 'title': 'n=20, p=0.5'},\n",
    "    {'n': 20, 'p': 0.2, 'title': 'n=20, p=0.2'}\n",
    "]\n",
    "\n",
    "for param, ax in zip(params, axes.flat):\n",
    "    dist = DistribuicaoBinomial(param['n'], param['p'])\n",
    "    k = np.arange(0, param['n'] + 1)\n",
    "    prob = [dist.pmf(ki) for ki in k]\n",
    "    \n",
    "    ax.bar(k, prob, alpha=0.8)\n",
    "    ax.set_title(param['title'])\n",
    "    ax.grid(True, alpha=0.3)\n",
    "\n",
    "plt.tight_layout()\n",
    "plt.show()"
   ]
  }
 ],
 "metadata": {
  "language_info": {
   "name": "python"
  }
 },
 "nbformat": 4,
 "nbformat_minor": 5
}
