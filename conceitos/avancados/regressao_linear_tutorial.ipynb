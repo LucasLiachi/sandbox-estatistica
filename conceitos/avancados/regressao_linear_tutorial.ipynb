{
 "cells": [
  {
   "cell_type": "markdown",
   "id": "dc536f0a",
   "metadata": {},
   "source": [
    "# Tutorial de Regressão Linear\n",
    "\n",
    "Este notebook demonstra conceitos e aplicações práticas de regressão linear usando Python.\n",
    "\n",
    "## Conteúdo\n",
    "1. Regressão Linear Simples\n",
    "2. Regressão Linear Múltipla\n",
    "3. Análise de Resíduos\n",
    "4. Métricas de Avaliação\n",
    "\n",
    "## Teoria\n",
    "\n",
    "A regressão linear modela a relação entre variáveis através da equação:\n",
    "\n",
    "$$ y = \\beta_0 + \\beta_1x_1 + \\beta_2x_2 + ... + \\beta_px_p + \\epsilon $$\n",
    "\n",
    "Onde:\n",
    "- $y$ é a variável dependente\n",
    "- $x_i$ são as variáveis independentes\n",
    "- $\\beta_i$ são os coeficientes\n",
    "- $\\epsilon$ é o termo de erro\n",
    "\n",
    "## Referências\n",
    "- James, G., et al. (2013). An Introduction to Statistical Learning.\n",
    "- Montgomery, D. C., & Runger, G. C. (2010). Applied Statistics and Probability for Engineers."
   ]
  },
  {
   "cell_type": "code",
   "execution_count": null,
   "id": "f5d4c5b4",
   "metadata": {},
   "outputs": [],
   "source": [
    "import numpy as np\n",
    "import pandas as pd\n",
    "import matplotlib.pyplot as plt\n",
    "import seaborn as sns\n",
    "from conceitos.intermediarios.regressao_linear import RegressaoLinear, criar_dados_exemplo\n",
    "\n",
    "# Configuração para visualizações\n",
    "plt.style.use('seaborn')\n",
    "sns.set_palette('husl')"
   ]
  },
  {
   "cell_type": "markdown",
   "id": "42097a3f",
   "metadata": {},
   "source": [
    "## 1. Regressão Linear Simples\n",
    "\n",
    "Vamos começar com um exemplo simples usando dados sintéticos:"
   ]
  },
  {
   "cell_type": "code",
   "execution_count": null,
   "id": "18a430de",
   "metadata": {},
   "outputs": [],
   "source": [
    "# Criar dados de exemplo\n",
    "X, y = criar_dados_exemplo(n_samples=100, n_features=1, noise=0.5)\n",
    "\n",
    "# Criar e treinar modelo\n",
    "modelo = RegressaoLinear()\n",
    "modelo.fit(X, y)\n",
    "\n",
    "# Plotar resultados\n",
    "modelo.plot_regression(X, y, ['Variável X'])\n",
    "\n",
    "# Avaliar modelo\n",
    "metricas = modelo.evaluate(X, y)\n",
    "print('\\nMétricas de Avaliação:')\n",
    "for metrica, valor in metricas.items():\n",
    "    print(f'{metrica}: {valor:.4f}')"
   ]
  },
  {
   "cell_type": "markdown",
   "id": "22103b48",
   "metadata": {},
   "source": [
    "## 2. Regressão Linear Múltipla\n",
    "\n",
    "Agora vamos trabalhar com múltiplas variáveis independentes:"
   ]
  },
  {
   "cell_type": "code",
   "execution_count": null,
   "id": "7cd44333",
   "metadata": {},
   "outputs": [],
   "source": [
    "# Criar dados com múltiplas features\n",
    "X_multi, y_multi = criar_dados_exemplo(n_samples=100, n_features=3)\n",
    "\n",
    "# Criar e treinar modelo\n",
    "modelo_multi = RegressaoLinear()\n",
    "modelo_multi.fit(X_multi, y_multi)\n",
    "\n",
    "# Mostrar coeficientes\n",
    "print('Coeficientes do modelo:')\n",
    "for i, coef in enumerate(modelo_multi.coef_):\n",
    "    print(f'β{i}: {coef:.4f}')\n",
    "print(f'Intercepto: {modelo_multi.intercept_:.4f}')\n",
    "\n",
    "# Avaliar modelo\n",
    "metricas_multi = modelo_multi.evaluate(X_multi, y_multi)\n",
    "print('\\nMétricas de Avaliação:')\n",
    "for metrica, valor in metricas_multi.items():\n",
    "    print(f'{metrica}: {valor:.4f}')"
   ]
  },
  {
   "cell_type": "markdown",
   "id": "2857b5ef",
   "metadata": {},
   "source": [
    "## 3. Análise de Resíduos\n",
    "\n",
    "A análise de resíduos é crucial para validar os pressupostos da regressão linear:\n",
    "\n",
    "1. Normalidade dos resíduos\n",
    "2. Homocedasticidade (variância constante)\n",
    "3. Independência dos erros"
   ]
  },
  {
   "cell_type": "code",
   "execution_count": null,
   "id": "bad5e3e5",
   "metadata": {},
   "outputs": [],
   "source": [
    "# Calcular resíduos\n",
    "y_pred = modelo.predict(X)\n",
    "residuos = y - y_pred\n",
    "\n",
    "# Plot de distribuição dos resíduos\n",
    "plt.figure(figsize=(12, 4))\n",
    "\n",
    "plt.subplot(121)\n",
    "sns.histplot(residuos, kde=True)\n",
    "plt.title('Distribuição dos Resíduos')\n",
    "\n",
    "plt.subplot(122)\n",
    "stats.probplot(residuos, dist='norm', plot=plt)\n",
    "plt.title('Q-Q Plot dos Resíduos')\n",
    "\n",
    "plt.tight_layout()\n",
    "plt.show()"
   ]
  }
 ],
 "metadata": {
  "language_info": {
   "name": "python"
  }
 },
 "nbformat": 4,
 "nbformat_minor": 5
}
