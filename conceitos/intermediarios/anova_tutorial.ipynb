{
 "cells": [
  {
   "cell_type": "markdown",
   "id": "d13092e7",
   "metadata": {},
   "source": [
    "# Tutorial de Análise de Variância (ANOVA)\n",
    "\n",
    "Este notebook demonstra a aplicação da Análise de Variância (ANOVA) usando Python.\n",
    "\n",
    "## Conteúdo\n",
    "1. Introdução à ANOVA\n",
    "2. Implementação em Python\n",
    "3. Visualização dos Resultados\n",
    "4. Interpretação\n",
    "\n",
    "## Referências\n",
    "- Montgomery, D. C., & Runger, G. C. (2010). Applied Statistics and Probability for Engineers.\n",
    "- Hair, J. F., et al. (2009). Multivariate Data Analysis."
   ]
  },
  {
   "cell_type": "code",
   "execution_count": null,
   "id": "1b8a4b96",
   "metadata": {},
   "outputs": [],
   "source": [
    "import numpy as np\n",
    "import pandas as pd\n",
    "import matplotlib.pyplot as plt\n",
    "import seaborn as sns\n",
    "from scipy import stats\n",
    "from conceitos.intermediarios.ANOVA import calculate_anova\n",
    "\n",
    "# Configuração para gráficos\n",
    "plt.style.use('seaborn')\n",
    "sns.set_palette('husl')"
   ]
  },
  {
   "cell_type": "markdown",
   "id": "337300a1",
   "metadata": {},
   "source": [
    "## Teoria da ANOVA\n",
    "\n",
    "A ANOVA é usada para comparar médias de diferentes grupos. A hipótese nula ($H_0$) é que todas as médias são iguais:\n",
    "\n",
    "$H_0: \\mu_1 = \\mu_2 = ... = \\mu_k$\n",
    "\n",
    "A estatística F é calculada como:\n",
    "\n",
    "$F = \\frac{QME}{QMD} = \\frac{SQE/(k-1)}{SQD/(N-k)}$\n",
    "\n",
    "Onde:\n",
    "- QME: Quadrado Médio Entre grupos\n",
    "- QMD: Quadrado Médio Dentro dos grupos\n",
    "- k: número de grupos\n",
    "- N: número total de observações"
   ]
  },
  {
   "cell_type": "code",
   "execution_count": null,
   "id": "920addbd",
   "metadata": {},
   "outputs": [],
   "source": [
    "# Exemplo com dados reais - Notas por nível de escolaridade\n",
    "data = {\n",
    "    'fundamental': [30.85, 30.34, 24.90, 31.36, 30.14, 30.69, 23.91, 24.07],\n",
    "    'medio': [31.01, 25.82, 22.59, 29.66, 26.36, 32.50, 26.27, 26.79],\n",
    "    'superior': [21.67, 20.39, 28.80, 25.78, 27.88, 25.87, 20.01, 24.83]\n",
    "}\n",
    "\n",
    "# Criar visualização das distribuições\n",
    "plt.figure(figsize=(12, 6))\n",
    "for i, (grupo, valores) in enumerate(data.items()):\n",
    "    sns.kdeplot(valores, label=grupo)\n",
    "\n",
    "plt.title('Distribuição das Notas por Nível de Escolaridade')\n",
    "plt.xlabel('Notas')\n",
    "plt.ylabel('Densidade')\n",
    "plt.legend()\n",
    "plt.show()"
   ]
  },
  {
   "cell_type": "code",
   "execution_count": null,
   "id": "8964d463",
   "metadata": {},
   "outputs": [],
   "source": [
    "# Calcular ANOVA\n",
    "resultado = calculate_anova(data)\n",
    "print('Resultados da ANOVA:\\n')\n",
    "display(resultado)\n",
    "\n",
    "# Calcular valor-p\n",
    "f_value = resultado.loc[0, 'Valor F']\n",
    "df_between = resultado.loc[0, 'Graus de Liberdade (df)']\n",
    "df_within = resultado.loc[1, 'Graus de Liberdade (df)']\n",
    "p_value = 1 - stats.f.cdf(f_value, df_between, df_within)\n",
    "\n",
    "print(f'\\nValor-p: {p_value:.4f}')"
   ]
  },
  {
   "cell_type": "markdown",
   "id": "c88195c5",
   "metadata": {},
   "source": [
    "## Interpretação dos Resultados\n",
    "\n",
    "1. **Valor F**: Uma estatística F grande indica diferenças significativas entre os grupos\n",
    "2. **Valor-p**: Se menor que o nível de significância (geralmente 0.05), rejeitamos a hipótese nula\n",
    "3. **Graus de Liberdade**: Afetam os valores críticos da distribuição F\n",
    "\n",
    "### Pressupostos da ANOVA\n",
    "- Normalidade dos resíduos\n",
    "- Homogeneidade das variâncias\n",
    "- Independência das observações"
   ]
  }
 ],
 "metadata": {
  "language_info": {
   "name": "python"
  }
 },
 "nbformat": 4,
 "nbformat_minor": 5
}
